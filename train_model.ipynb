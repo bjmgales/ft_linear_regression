{
 "cells": [
  {
   "cell_type": "code",
   "execution_count": 402,
   "metadata": {},
   "outputs": [],
   "source": [
    "import pandas as pd\n",
    "import sys\n",
    "import matplotlib.pyplot as plt"
   ]
  },
  {
   "cell_type": "code",
   "execution_count": 403,
   "metadata": {},
   "outputs": [],
   "source": [
    "def standardize(df: pd.DataFrame, type: str):\n",
    "    return (df[type] - df[type].mean()) / df[type].std()\n",
    "\n",
    "\n",
    "def rev_standardize(df:pd.DataFrame, type: str):\n",
    "    return df[type] * df[type].std() + df[type].mean()\n",
    "\n",
    "def update_thetas(x, y, y_pred, t0, t1, learn_rate):\n",
    "    tmpt0 = ((y_pred - y).sum() * 2) / len(y)\n",
    "    tmpt1 = ((y_pred - y) * x).sum() * 2 / len(y)\n",
    "    t0 = t0 - learn_rate * tmpt0\n",
    "    t1 = t1 - learn_rate * tmpt1\n",
    "    return t0, t1\n"
   ]
  },
  {
   "cell_type": "code",
   "execution_count": 404,
   "metadata": {},
   "outputs": [
    {
     "data": {
      "image/png": "[encoded data removed]",
      "text/plain": [
       "<Figure size 640x480 with 1 Axes>"
      ]
     },
     "metadata": {},
     "output_type": "display_data"
    },
    {
     "name": "stdout",
     "output_type": "stream",
     "text": [
      "0     0.0\n",
      "1     0.0\n",
      "2     0.0\n",
      "3     0.0\n",
      "4     0.0\n",
      "5     0.0\n",
      "6     0.0\n",
      "7     0.0\n",
      "8     0.0\n",
      "9     0.0\n",
      "10    0.0\n",
      "11    0.0\n",
      "12    0.0\n",
      "13    0.0\n",
      "14    0.0\n",
      "15    0.0\n",
      "16    0.0\n",
      "17    0.0\n",
      "18    0.0\n",
      "19    0.0\n",
      "20    0.0\n",
      "21    0.0\n",
      "22    0.0\n",
      "23    0.0\n",
      "Name: km, dtype: float64\n"
     ]
    },
    {
     "data": {
      "text/plain": [
       "<Figure size 640x480 with 0 Axes>"
      ]
     },
     "metadata": {},
     "output_type": "display_data"
    },
    {
     "name": "stdout",
     "output_type": "stream",
     "text": [
      "0    -0.432813\n",
      "1    -0.120665\n",
      "2    -0.153998\n",
      "3    -0.263126\n",
      "4    -0.233437\n",
      "5    -0.042784\n",
      "6    -0.204777\n",
      "7     0.037589\n",
      "8    -0.135307\n",
      "9     0.053166\n",
      "10    0.059306\n",
      "11    0.118399\n",
      "12    0.084318\n",
      "13    0.011110\n",
      "14    0.106125\n",
      "15    0.078010\n",
      "16    0.164582\n",
      "17    0.025128\n",
      "18    0.124975\n",
      "19    0.110256\n",
      "20    0.146623\n",
      "21    0.101452\n",
      "22    0.243510\n",
      "23    0.122358\n",
      "Name: km, dtype: float64\n"
     ]
    },
    {
     "data": {
      "text/plain": [
       "<Figure size 640x480 with 0 Axes>"
      ]
     },
     "metadata": {},
     "output_type": "display_data"
    },
    {
     "name": "stdout",
     "output_type": "stream",
     "text": [
      "0    -0.782671\n",
      "1    -0.218203\n",
      "2    -0.278481\n",
      "3    -0.475819\n",
      "4    -0.422132\n",
      "5    -0.077368\n",
      "6    -0.370305\n",
      "7     0.067974\n",
      "8    -0.244680\n",
      "9     0.096141\n",
      "10    0.107245\n",
      "11    0.214105\n",
      "12    0.152475\n",
      "13    0.020090\n",
      "14    0.191909\n",
      "15    0.141068\n",
      "16    0.297620\n",
      "17    0.045440\n",
      "18    0.225997\n",
      "19    0.199379\n",
      "20    0.265143\n",
      "21    0.183459\n",
      "22    0.440348\n",
      "23    0.221265\n",
      "Name: km, dtype: float64\n"
     ]
    },
    {
     "data": {
      "text/plain": [
       "<Figure size 640x480 with 0 Axes>"
      ]
     },
     "metadata": {},
     "output_type": "display_data"
    },
    {
     "name": "stdout",
     "output_type": "stream",
     "text": [
      "0    -1.065472\n",
      "1    -0.297046\n",
      "2    -0.379104\n",
      "3    -0.647746\n",
      "4    -0.574661\n",
      "5    -0.105323\n",
      "6    -0.504107\n",
      "7     0.092535\n",
      "8    -0.333090\n",
      "9     0.130880\n",
      "10    0.145995\n",
      "11    0.291467\n",
      "12    0.207569\n",
      "13    0.027349\n",
      "14    0.261251\n",
      "15    0.192039\n",
      "16    0.405159\n",
      "17    0.061859\n",
      "18    0.307656\n",
      "19    0.271420\n",
      "20    0.360947\n",
      "21    0.249748\n",
      "22    0.599458\n",
      "23    0.301214\n",
      "Name: km, dtype: float64\n"
     ]
    },
    {
     "data": {
      "text/plain": [
       "<Figure size 640x480 with 0 Axes>"
      ]
     },
     "metadata": {},
     "output_type": "display_data"
    },
    {
     "name": "stdout",
     "output_type": "stream",
     "text": [
      "0    -1.294070\n",
      "1    -0.360778\n",
      "2    -0.460440\n",
      "3    -0.786720\n",
      "4    -0.697955\n",
      "5    -0.127920\n",
      "6    -0.612263\n",
      "7     0.112389\n",
      "8    -0.404555\n",
      "9     0.158960\n",
      "10    0.177319\n",
      "11    0.354001\n",
      "12    0.252103\n",
      "13    0.033217\n",
      "14    0.317303\n",
      "15    0.233242\n",
      "16    0.492086\n",
      "17    0.075131\n",
      "18    0.373664\n",
      "19    0.329654\n",
      "20    0.438389\n",
      "21    0.303332\n",
      "22    0.728073\n",
      "23    0.365840\n",
      "Name: km, dtype: float64\n"
     ]
    },
    {
     "data": {
      "text/plain": [
       "<Figure size 640x480 with 0 Axes>"
      ]
     },
     "metadata": {},
     "output_type": "display_data"
    },
    {
     "name": "stdout",
     "output_type": "stream",
     "text": [
      "0    -1.478853\n",
      "1    -0.412294\n",
      "2    -0.526188\n",
      "3    -0.899058\n",
      "4    -0.797618\n",
      "5    -0.146186\n",
      "6    -0.699690\n",
      "7     0.128437\n",
      "8    -0.462322\n",
      "9     0.181658\n",
      "10    0.202638\n",
      "11    0.404550\n",
      "12    0.288101\n",
      "13    0.037960\n",
      "14    0.362611\n",
      "15    0.266547\n",
      "16    0.562352\n",
      "17    0.085860\n",
      "18    0.427020\n",
      "19    0.376726\n",
      "20    0.500987\n",
      "21    0.346645\n",
      "22    0.832036\n",
      "23    0.418079\n",
      "Name: km, dtype: float64\n"
     ]
    },
    {
     "data": {
      "text/plain": [
       "<Figure size 640x480 with 0 Axes>"
      ]
     },
     "metadata": {},
     "output_type": "display_data"
    },
    {
     "name": "stdout",
     "output_type": "stream",
     "text": [
      "0    -1.628219\n",
      "1    -0.453936\n",
      "2    -0.579334\n",
      "3    -0.989864\n",
      "4    -0.878178\n",
      "5    -0.160951\n",
      "6    -0.770360\n",
      "7     0.141409\n",
      "8    -0.509017\n",
      "9     0.200006\n",
      "10    0.223105\n",
      "11    0.445410\n",
      "12    0.317200\n",
      "13    0.041794\n",
      "14    0.399236\n",
      "15    0.293468\n",
      "16    0.619150\n",
      "17    0.094532\n",
      "18    0.470150\n",
      "19    0.414776\n",
      "20    0.551588\n",
      "21    0.381657\n",
      "22    0.916073\n",
      "23    0.460306\n",
      "Name: km, dtype: float64\n"
     ]
    },
    {
     "data": {
      "text/plain": [
       "<Figure size 640x480 with 0 Axes>"
      ]
     },
     "metadata": {},
     "output_type": "display_data"
    },
    {
     "name": "stdout",
     "output_type": "stream",
     "text": [
      "0    -1.748957\n",
      "1    -0.487597\n",
      "2    -0.622293\n",
      "3    -1.063266\n",
      "4    -0.943298\n",
      "5    -0.172886\n",
      "6    -0.827484\n",
      "7     0.151895\n",
      "8    -0.546763\n",
      "9     0.214837\n",
      "10    0.239649\n",
      "11    0.478439\n",
      "12    0.340721\n",
      "13    0.044893\n",
      "14    0.428840\n",
      "15    0.315230\n",
      "16    0.665062\n",
      "17    0.101541\n",
      "18    0.505013\n",
      "19    0.445533\n",
      "20    0.592490\n",
      "21    0.409958\n",
      "22    0.984003\n",
      "23    0.494439\n",
      "Name: km, dtype: float64\n"
     ]
    },
    {
     "data": {
      "text/plain": [
       "<Figure size 640x480 with 0 Axes>"
      ]
     },
     "metadata": {},
     "output_type": "display_data"
    },
    {
     "name": "stdout",
     "output_type": "stream",
     "text": [
      "0    -1.846554\n",
      "1    -0.514806\n",
      "2    -0.657019\n",
      "3    -1.122599\n",
      "4    -0.995936\n",
      "5    -0.182534\n",
      "6    -0.873660\n",
      "7     0.160371\n",
      "8    -0.577273\n",
      "9     0.226826\n",
      "10    0.253022\n",
      "11    0.505137\n",
      "12    0.359735\n",
      "13    0.047399\n",
      "14    0.452771\n",
      "15    0.332821\n",
      "16    0.702174\n",
      "17    0.107208\n",
      "18    0.533194\n",
      "19    0.470395\n",
      "20    0.625552\n",
      "21    0.432835\n",
      "22    1.038913\n",
      "23    0.522030\n",
      "Name: km, dtype: float64\n"
     ]
    },
    {
     "data": {
      "text/plain": [
       "<Figure size 640x480 with 0 Axes>"
      ]
     },
     "metadata": {},
     "output_type": "display_data"
    },
    {
     "name": "stdout",
     "output_type": "stream",
     "text": [
      "0    -1.925444\n",
      "1    -0.536800\n",
      "2    -0.685089\n",
      "3    -1.170560\n",
      "4    -1.038486\n",
      "5    -0.190332\n",
      "6    -0.910986\n",
      "7     0.167223\n",
      "8    -0.601936\n",
      "9     0.236516\n",
      "10    0.263832\n",
      "11    0.526718\n",
      "12    0.375104\n",
      "13    0.049424\n",
      "14    0.472115\n",
      "15    0.347040\n",
      "16    0.732174\n",
      "17    0.111788\n",
      "18    0.555974\n",
      "19    0.490491\n",
      "20    0.652278\n",
      "21    0.451327\n",
      "22    1.083298\n",
      "23    0.544332\n",
      "Name: km, dtype: float64\n"
     ]
    },
    {
     "data": {
      "text/plain": [
       "<Figure size 640x480 with 0 Axes>"
      ]
     },
     "metadata": {},
     "output_type": "display_data"
    },
    {
     "name": "stdout",
     "output_type": "stream",
     "text": [
      "0    -1.989214\n",
      "1    -0.554579\n",
      "2    -0.707778\n",
      "3    -1.209328\n",
      "4    -1.072880\n",
      "5    -0.196636\n",
      "6    -0.941157\n",
      "7     0.172761\n",
      "8    -0.621872\n",
      "9     0.244350\n",
      "10    0.272570\n",
      "11    0.544163\n",
      "12    0.387527\n",
      "13    0.051061\n",
      "14    0.487751\n",
      "15    0.358533\n",
      "16    0.756423\n",
      "17    0.115490\n",
      "18    0.574387\n",
      "19    0.506736\n",
      "20    0.673881\n",
      "21    0.466274\n",
      "22    1.119176\n",
      "23    0.562360\n",
      "Name: km, dtype: float64\n"
     ]
    },
    {
     "data": {
      "text/plain": [
       "<Figure size 640x480 with 0 Axes>"
      ]
     },
     "metadata": {},
     "output_type": "display_data"
    },
    {
     "name": "stdout",
     "output_type": "stream",
     "text": [
      "0    -2.040761\n",
      "1    -0.568950\n",
      "2    -0.726119\n",
      "3    -1.240666\n",
      "4    -1.100682\n",
      "5    -0.201731\n",
      "6    -0.965546\n",
      "7     0.177238\n",
      "8    -0.637987\n",
      "9     0.250682\n",
      "10    0.279633\n",
      "11    0.558264\n",
      "12    0.397569\n",
      "13    0.052384\n",
      "14    0.500390\n",
      "15    0.367824\n",
      "16    0.776024\n",
      "17    0.118483\n",
      "18    0.589272\n",
      "19    0.519867\n",
      "20    0.691344\n",
      "21    0.478357\n",
      "22    1.148178\n",
      "23    0.576933\n",
      "Name: km, dtype: float64\n"
     ]
    },
    {
     "data": {
      "text/plain": [
       "<Figure size 640x480 with 0 Axes>"
      ]
     },
     "metadata": {},
     "output_type": "display_data"
    },
    {
     "name": "stdout",
     "output_type": "stream",
     "text": [
      "0    -2.082428\n",
      "1    -0.580566\n",
      "2    -0.740945\n",
      "3    -1.265997\n",
      "4    -1.123155\n",
      "5    -0.205850\n",
      "6    -0.985260\n",
      "7     0.180857\n",
      "8    -0.651013\n",
      "9     0.255800\n",
      "10    0.285343\n",
      "11    0.569662\n",
      "12    0.405686\n",
      "13    0.053453\n",
      "14    0.510607\n",
      "15    0.375334\n",
      "16    0.791869\n",
      "17    0.120902\n",
      "18    0.601303\n",
      "19    0.530482\n",
      "20    0.705459\n",
      "21    0.488124\n",
      "22    1.171621\n",
      "23    0.588713\n",
      "Name: km, dtype: float64\n"
     ]
    },
    {
     "data": {
      "text/plain": [
       "<Figure size 640x480 with 0 Axes>"
      ]
     },
     "metadata": {},
     "output_type": "display_data"
    },
    {
     "name": "stdout",
     "output_type": "stream",
     "text": [
      "0    -2.116110\n",
      "1    -0.589956\n",
      "2    -0.752929\n",
      "3    -1.286473\n",
      "4    -1.141321\n",
      "5    -0.209180\n",
      "6    -1.001195\n",
      "7     0.183782\n",
      "8    -0.661542\n",
      "9     0.259937\n",
      "10    0.289958\n",
      "11    0.578876\n",
      "12    0.412248\n",
      "13    0.054318\n",
      "14    0.518865\n",
      "15    0.381405\n",
      "16    0.804676\n",
      "17    0.122858\n",
      "18    0.611029\n",
      "19    0.539062\n",
      "20    0.716869\n",
      "21    0.496019\n",
      "22    1.190571\n",
      "23    0.598235\n",
      "Name: km, dtype: float64\n"
     ]
    },
    {
     "data": {
      "text/plain": [
       "<Figure size 640x480 with 0 Axes>"
      ]
     },
     "metadata": {},
     "output_type": "display_data"
    },
    {
     "name": "stdout",
     "output_type": "stream",
     "text": [
      "0    -2.143335\n",
      "1    -0.597547\n",
      "2    -0.762616\n",
      "3    -1.303025\n",
      "4    -1.156005\n",
      "5    -0.211871\n",
      "6    -1.014077\n",
      "7     0.186146\n",
      "8    -0.670054\n",
      "9     0.263282\n",
      "10    0.293688\n",
      "11    0.586324\n",
      "12    0.417552\n",
      "13    0.055017\n",
      "14    0.525541\n",
      "15    0.386312\n",
      "16    0.815029\n",
      "17    0.124438\n",
      "18    0.618890\n",
      "19    0.545997\n",
      "20    0.726092\n",
      "21    0.502401\n",
      "22    1.205888\n",
      "23    0.605931\n",
      "Name: km, dtype: float64\n"
     ]
    },
    {
     "data": {
      "text/plain": [
       "<Figure size 640x480 with 0 Axes>"
      ]
     },
     "metadata": {},
     "output_type": "display_data"
    },
    {
     "name": "stdout",
     "output_type": "stream",
     "text": [
      "0    -2.165342\n",
      "1    -0.603682\n",
      "2    -0.770446\n",
      "3    -1.316404\n",
      "4    -1.167875\n",
      "5    -0.214046\n",
      "6    -1.024489\n",
      "7     0.188058\n",
      "8    -0.676934\n",
      "9     0.265985\n",
      "10    0.296704\n",
      "11    0.592344\n",
      "12    0.421839\n",
      "13    0.055582\n",
      "14    0.530937\n",
      "15    0.390279\n",
      "16    0.823398\n",
      "17    0.125716\n",
      "18    0.625245\n",
      "19    0.551603\n",
      "20    0.733548\n",
      "21    0.507559\n",
      "22    1.218270\n",
      "23    0.612153\n",
      "Name: km, dtype: float64\n"
     ]
    },
    {
     "data": {
      "text/plain": [
       "<Figure size 640x480 with 0 Axes>"
      ]
     },
     "metadata": {},
     "output_type": "display_data"
    },
    {
     "name": "stdout",
     "output_type": "stream",
     "text": [
      "0    -2.183132\n",
      "1    -0.608642\n",
      "2    -0.776776\n",
      "3    -1.327219\n",
      "4    -1.177469\n",
      "5    -0.215805\n",
      "6    -1.032905\n",
      "7     0.189603\n",
      "8    -0.682495\n",
      "9     0.268170\n",
      "10    0.299141\n",
      "11    0.597210\n",
      "12    0.425305\n",
      "13    0.056038\n",
      "14    0.535299\n",
      "15    0.393485\n",
      "16    0.830162\n",
      "17    0.126749\n",
      "18    0.630381\n",
      "19    0.556135\n",
      "20    0.739574\n",
      "21    0.511729\n",
      "22    1.228279\n",
      "23    0.617182\n",
      "Name: km, dtype: float64\n"
     ]
    },
    {
     "data": {
      "text/plain": [
       "<Figure size 640x480 with 0 Axes>"
      ]
     },
     "metadata": {},
     "output_type": "display_data"
    },
    {
     "name": "stdout",
     "output_type": "stream",
     "text": [
      "0    -2.197511\n",
      "1    -0.612651\n",
      "2    -0.781892\n",
      "3    -1.335961\n",
      "4    -1.185225\n",
      "5    -0.217226\n",
      "6    -1.039709\n",
      "7     0.190852\n",
      "8    -0.686990\n",
      "9     0.269936\n",
      "10    0.301112\n",
      "11    0.601144\n",
      "12    0.428106\n",
      "13    0.056407\n",
      "14    0.538825\n",
      "15    0.396077\n",
      "16    0.835630\n",
      "17    0.127584\n",
      "18    0.634533\n",
      "19    0.559798\n",
      "20    0.744446\n",
      "21    0.515099\n",
      "22    1.236369\n",
      "23    0.621247\n",
      "Name: km, dtype: float64\n"
     ]
    },
    {
     "data": {
      "text/plain": [
       "<Figure size 640x480 with 0 Axes>"
      ]
     },
     "metadata": {},
     "output_type": "display_data"
    },
    {
     "name": "stdout",
     "output_type": "stream",
     "text": [
      "0    -2.209135\n",
      "1    -0.615891\n",
      "2    -0.786028\n",
      "3    -1.343027\n",
      "4    -1.191494\n",
      "5    -0.218375\n",
      "6    -1.045208\n",
      "7     0.191861\n",
      "8    -0.690624\n",
      "9     0.271364\n",
      "10    0.302704\n",
      "11    0.604324\n",
      "12    0.430371\n",
      "13    0.056706\n",
      "14    0.541675\n",
      "15    0.398172\n",
      "16    0.840050\n",
      "17    0.128258\n",
      "18    0.637890\n",
      "19    0.562759\n",
      "20    0.748383\n",
      "21    0.517824\n",
      "22    1.242909\n",
      "23    0.624533\n",
      "Name: km, dtype: float64\n"
     ]
    },
    {
     "data": {
      "text/plain": [
       "<Figure size 640x480 with 0 Axes>"
      ]
     },
     "metadata": {},
     "output_type": "display_data"
    },
    {
     "name": "stdout",
     "output_type": "stream",
     "text": [
      "0    -2.218531\n",
      "1    -0.618511\n",
      "2    -0.789371\n",
      "3    -1.348739\n",
      "4    -1.196562\n",
      "5    -0.219304\n",
      "6    -1.049654\n",
      "7     0.192677\n",
      "8    -0.693562\n",
      "9     0.272518\n",
      "10    0.303992\n",
      "11    0.606894\n",
      "12    0.432201\n",
      "13    0.056947\n",
      "14    0.543979\n",
      "15    0.399865\n",
      "16    0.843623\n",
      "17    0.128804\n",
      "18    0.640603\n",
      "19    0.565153\n",
      "20    0.751566\n",
      "21    0.520026\n",
      "22    1.248195\n",
      "23    0.627189\n",
      "Name: km, dtype: float64\n"
     ]
    },
    {
     "data": {
      "text/plain": [
       "<Figure size 640x480 with 0 Axes>"
      ]
     },
     "metadata": {},
     "output_type": "display_data"
    },
    {
     "name": "stdout",
     "output_type": "stream",
     "text": [
      "0    -2.226125\n",
      "1    -0.620628\n",
      "2    -0.792073\n",
      "3    -1.353357\n",
      "4    -1.200658\n",
      "5    -0.220055\n",
      "6    -1.053247\n",
      "7     0.193337\n",
      "8    -0.695936\n",
      "9     0.273451\n",
      "10    0.305032\n",
      "11    0.608971\n",
      "12    0.433681\n",
      "13    0.057142\n",
      "14    0.545841\n",
      "15    0.401234\n",
      "16    0.846511\n",
      "17    0.129245\n",
      "18    0.642796\n",
      "19    0.567087\n",
      "20    0.754139\n",
      "21    0.521807\n",
      "22    1.252468\n",
      "23    0.629337\n",
      "Name: km, dtype: float64\n"
     ]
    },
    {
     "data": {
      "text/plain": [
       "<Figure size 640x480 with 0 Axes>"
      ]
     },
     "metadata": {},
     "output_type": "display_data"
    },
    {
     "name": "stdout",
     "output_type": "stream",
     "text": [
      "0    -2.232265\n",
      "1    -0.622340\n",
      "2    -0.794258\n",
      "3    -1.357089\n",
      "4    -1.203969\n",
      "5    -0.220662\n",
      "6    -1.056152\n",
      "7     0.193870\n",
      "8    -0.697855\n",
      "9     0.274205\n",
      "10    0.305874\n",
      "11    0.610651\n",
      "12    0.434877\n",
      "13    0.057299\n",
      "14    0.547346\n",
      "15    0.402341\n",
      "16    0.848846\n",
      "17    0.129601\n",
      "18    0.644568\n",
      "19    0.568651\n",
      "20    0.756219\n",
      "21    0.523246\n",
      "22    1.255922\n",
      "23    0.631072\n",
      "Name: km, dtype: float64\n"
     ]
    },
    {
     "data": {
      "text/plain": [
       "<Figure size 640x480 with 0 Axes>"
      ]
     },
     "metadata": {},
     "output_type": "display_data"
    },
    {
     "name": "stdout",
     "output_type": "stream",
     "text": [
      "0    -2.237227\n",
      "1    -0.623723\n",
      "2    -0.796023\n",
      "3    -1.360106\n",
      "4    -1.206646\n",
      "5    -0.221152\n",
      "6    -1.058500\n",
      "7     0.194301\n",
      "8    -0.699406\n",
      "9     0.274815\n",
      "10    0.306554\n",
      "11    0.612008\n",
      "12    0.435843\n",
      "13    0.057427\n",
      "14    0.548563\n",
      "15    0.403235\n",
      "16    0.850733\n",
      "17    0.129889\n",
      "18    0.646001\n",
      "19    0.569916\n",
      "20    0.757900\n",
      "21    0.524409\n",
      "22    1.258714\n",
      "23    0.632475\n",
      "Name: km, dtype: float64\n"
     ]
    },
    {
     "data": {
      "text/plain": [
       "<Figure size 640x480 with 0 Axes>"
      ]
     },
     "metadata": {},
     "output_type": "display_data"
    },
    {
     "name": "stdout",
     "output_type": "stream",
     "text": [
      "0    -2.241238\n",
      "1    -0.624841\n",
      "2    -0.797451\n",
      "3    -1.362544\n",
      "4    -1.208809\n",
      "5    -0.221549\n",
      "6    -1.060398\n",
      "7     0.194649\n",
      "8    -0.700661\n",
      "9     0.275308\n",
      "10    0.307103\n",
      "11    0.613106\n",
      "12    0.436625\n",
      "13    0.057530\n",
      "14    0.549547\n",
      "15    0.403958\n",
      "16    0.852258\n",
      "17    0.130122\n",
      "18    0.647160\n",
      "19    0.570937\n",
      "20    0.759259\n",
      "21    0.525349\n",
      "22    1.260971\n",
      "23    0.633609\n",
      "Name: km, dtype: float64\n"
     ]
    },
    {
     "data": {
      "text/plain": [
       "<Figure size 640x480 with 0 Axes>"
      ]
     },
     "metadata": {},
     "output_type": "display_data"
    },
    {
     "name": "stdout",
     "output_type": "stream",
     "text": [
      "0    -2.244481\n",
      "1    -0.625745\n",
      "2    -0.798604\n",
      "3    -1.364516\n",
      "4    -1.210558\n",
      "5    -0.221869\n",
      "6    -1.061932\n",
      "7     0.194931\n",
      "8    -0.701674\n",
      "9     0.275706\n",
      "10    0.307548\n",
      "11    0.613993\n",
      "12    0.437256\n",
      "13    0.057613\n",
      "14    0.550342\n",
      "15    0.404543\n",
      "16    0.853491\n",
      "17    0.130311\n",
      "18    0.648096\n",
      "19    0.571763\n",
      "20    0.760357\n",
      "21    0.526109\n",
      "22    1.262795\n",
      "23    0.634526\n",
      "Name: km, dtype: float64\n"
     ]
    },
    {
     "data": {
      "text/plain": [
       "<Figure size 640x480 with 0 Axes>"
      ]
     },
     "metadata": {},
     "output_type": "display_data"
    },
    {
     "name": "stdout",
     "output_type": "stream",
     "text": [
      "0    -2.247102\n",
      "1    -0.626476\n",
      "2    -0.799537\n",
      "3    -1.366109\n",
      "4    -1.211972\n",
      "5    -0.222128\n",
      "6    -1.063172\n",
      "7     0.195158\n",
      "8    -0.702494\n",
      "9     0.276028\n",
      "10    0.307907\n",
      "11    0.614710\n",
      "12    0.437767\n",
      "13    0.057680\n",
      "14    0.550984\n",
      "15    0.405015\n",
      "16    0.854488\n",
      "17    0.130463\n",
      "18    0.648853\n",
      "19    0.572431\n",
      "20    0.761245\n",
      "21    0.526724\n",
      "22    1.264270\n",
      "23    0.635267\n",
      "Name: km, dtype: float64\n"
     ]
    },
    {
     "data": {
      "text/plain": [
       "<Figure size 640x480 with 0 Axes>"
      ]
     },
     "metadata": {},
     "output_type": "display_data"
    },
    {
     "name": "stdout",
     "output_type": "stream",
     "text": [
      "0    -2.249221\n",
      "1    -0.627067\n",
      "2    -0.800291\n",
      "3    -1.367397\n",
      "4    -1.213114\n",
      "5    -0.222338\n",
      "6    -1.064174\n",
      "7     0.195342\n",
      "8    -0.703156\n",
      "9     0.276288\n",
      "10    0.308197\n",
      "11    0.615289\n",
      "12    0.438180\n",
      "13    0.057735\n",
      "14    0.551504\n",
      "15    0.405397\n",
      "16    0.855294\n",
      "17    0.130586\n",
      "18    0.649465\n",
      "19    0.572971\n",
      "20    0.761963\n",
      "21    0.527220\n",
      "22    1.265462\n",
      "23    0.635866\n",
      "Name: km, dtype: float64\n"
     ]
    },
    {
     "data": {
      "text/plain": [
       "<Figure size 640x480 with 0 Axes>"
      ]
     },
     "metadata": {},
     "output_type": "display_data"
    },
    {
     "name": "stdout",
     "output_type": "stream",
     "text": [
      "0    -2.250933\n",
      "1    -0.627544\n",
      "2    -0.800900\n",
      "3    -1.368438\n",
      "4    -1.214038\n",
      "5    -0.222507\n",
      "6    -1.064984\n",
      "7     0.195491\n",
      "8    -0.703691\n",
      "9     0.276499\n",
      "10    0.308432\n",
      "11    0.615758\n",
      "12    0.438513\n",
      "13    0.057779\n",
      "14    0.551924\n",
      "15    0.405705\n",
      "16    0.855945\n",
      "17    0.130685\n",
      "18    0.649959\n",
      "19    0.573407\n",
      "20    0.762543\n",
      "21    0.527622\n",
      "22    1.266426\n",
      "23    0.636350\n",
      "Name: km, dtype: float64\n"
     ]
    },
    {
     "data": {
      "text/plain": [
       "<Figure size 640x480 with 0 Axes>"
      ]
     },
     "metadata": {},
     "output_type": "display_data"
    },
    {
     "name": "stdout",
     "output_type": "stream",
     "text": [
      "0    -2.252318\n",
      "1    -0.627930\n",
      "2    -0.801393\n",
      "3    -1.369280\n",
      "4    -1.214785\n",
      "5    -0.222644\n",
      "6    -1.065639\n",
      "7     0.195611\n",
      "8    -0.704124\n",
      "9     0.276669\n",
      "10    0.308621\n",
      "11    0.616136\n",
      "12    0.438783\n",
      "13    0.057814\n",
      "14    0.552263\n",
      "15    0.405955\n",
      "16    0.856471\n",
      "17    0.130766\n",
      "18    0.650359\n",
      "19    0.573760\n",
      "20    0.763012\n",
      "21    0.527946\n",
      "22    1.267205\n",
      "23    0.636741\n",
      "Name: km, dtype: float64\n"
     ]
    },
    {
     "data": {
      "text/plain": [
       "<Figure size 640x480 with 0 Axes>"
      ]
     },
     "metadata": {},
     "output_type": "display_data"
    },
    {
     "name": "stdout",
     "output_type": "stream",
     "text": [
      "0    -2.253437\n",
      "1    -0.628242\n",
      "2    -0.801791\n",
      "3    -1.369960\n",
      "4    -1.215388\n",
      "5    -0.222755\n",
      "6    -1.066169\n",
      "7     0.195709\n",
      "8    -0.704474\n",
      "9     0.276806\n",
      "10    0.308775\n",
      "11    0.616443\n",
      "12    0.439001\n",
      "13    0.057843\n",
      "14    0.552538\n",
      "15    0.406157\n",
      "16    0.856897\n",
      "17    0.130831\n",
      "18    0.650682\n",
      "19    0.574045\n",
      "20    0.763391\n",
      "21    0.528208\n",
      "22    1.267834\n",
      "23    0.637058\n",
      "Name: km, dtype: float64\n"
     ]
    },
    {
     "data": {
      "text/plain": [
       "<Figure size 640x480 with 0 Axes>"
      ]
     },
     "metadata": {},
     "output_type": "display_data"
    },
    {
     "name": "stdout",
     "output_type": "stream",
     "text": [
      "0    -2.254341\n",
      "1    -0.628494\n",
      "2    -0.802113\n",
      "3    -1.370510\n",
      "4    -1.215876\n",
      "5    -0.222844\n",
      "6    -1.066597\n",
      "7     0.195787\n",
      "8    -0.704757\n",
      "9     0.276917\n",
      "10    0.308899\n",
      "11    0.616690\n",
      "12    0.439177\n",
      "13    0.057866\n",
      "14    0.552759\n",
      "15    0.406320\n",
      "16    0.857241\n",
      "17    0.130883\n",
      "18    0.650943\n",
      "19    0.574275\n",
      "20    0.763698\n",
      "21    0.528420\n",
      "22    1.268343\n",
      "23    0.637313\n",
      "Name: km, dtype: float64\n"
     ]
    },
    {
     "data": {
      "text/plain": [
       "<Figure size 640x480 with 0 Axes>"
      ]
     },
     "metadata": {},
     "output_type": "display_data"
    },
    {
     "name": "stdout",
     "output_type": "stream",
     "text": [
      "0    -2.255072\n",
      "1    -0.628698\n",
      "2    -0.802373\n",
      "3    -1.370955\n",
      "4    -1.216271\n",
      "5    -0.222916\n",
      "6    -1.066943\n",
      "7     0.195851\n",
      "8    -0.704985\n",
      "9     0.277007\n",
      "10    0.308999\n",
      "11    0.616890\n",
      "12    0.439320\n",
      "13    0.057885\n",
      "14    0.552939\n",
      "15    0.406451\n",
      "16    0.857519\n",
      "17    0.130926\n",
      "18    0.651154\n",
      "19    0.574461\n",
      "20    0.763945\n",
      "21    0.528592\n",
      "22    1.268754\n",
      "23    0.637520\n",
      "Name: km, dtype: float64\n"
     ]
    },
    {
     "data": {
      "text/plain": [
       "<Figure size 640x480 with 0 Axes>"
      ]
     },
     "metadata": {},
     "output_type": "display_data"
    },
    {
     "name": "stdout",
     "output_type": "stream",
     "text": [
      "0    -2.255663\n",
      "1    -0.628863\n",
      "2    -0.802583\n",
      "3    -1.371314\n",
      "4    -1.216589\n",
      "5    -0.222975\n",
      "6    -1.067222\n",
      "7     0.195902\n",
      "8    -0.705170\n",
      "9     0.277080\n",
      "10    0.309080\n",
      "11    0.617052\n",
      "12    0.439435\n",
      "13    0.057900\n",
      "14    0.553084\n",
      "15    0.406558\n",
      "16    0.857743\n",
      "17    0.130960\n",
      "18    0.651325\n",
      "19    0.574612\n",
      "20    0.764146\n",
      "21    0.528730\n",
      "22    1.269087\n",
      "23    0.637687\n",
      "Name: km, dtype: float64\n"
     ]
    },
    {
     "data": {
      "text/plain": [
       "<Figure size 640x480 with 0 Axes>"
      ]
     },
     "metadata": {},
     "output_type": "display_data"
    },
    {
     "name": "stdout",
     "output_type": "stream",
     "text": [
      "0    -2.256141\n",
      "1    -0.628996\n",
      "2    -0.802753\n",
      "3    -1.371604\n",
      "4    -1.216847\n",
      "5    -0.223022\n",
      "6    -1.067448\n",
      "7     0.195943\n",
      "8    -0.705319\n",
      "9     0.277138\n",
      "10    0.309145\n",
      "11    0.617182\n",
      "12    0.439528\n",
      "13    0.057912\n",
      "14    0.553201\n",
      "15    0.406644\n",
      "16    0.857925\n",
      "17    0.130988\n",
      "18    0.651463\n",
      "19    0.574734\n",
      "20    0.764307\n",
      "21    0.528842\n",
      "22    1.269356\n",
      "23    0.637822\n",
      "Name: km, dtype: float64\n"
     ]
    },
    {
     "data": {
      "text/plain": [
       "<Figure size 640x480 with 0 Axes>"
      ]
     },
     "metadata": {},
     "output_type": "display_data"
    },
    {
     "name": "stdout",
     "output_type": "stream",
     "text": [
      "0    -2.256527\n",
      "1    -0.629104\n",
      "2    -0.802891\n",
      "3    -1.371839\n",
      "4    -1.217055\n",
      "5    -0.223060\n",
      "6    -1.067631\n",
      "7     0.195977\n",
      "8    -0.705440\n",
      "9     0.277186\n",
      "10    0.309198\n",
      "11    0.617288\n",
      "12    0.439603\n",
      "13    0.057922\n",
      "14    0.553296\n",
      "15    0.406714\n",
      "16    0.858072\n",
      "17    0.131010\n",
      "18    0.651574\n",
      "19    0.574832\n",
      "20    0.764438\n",
      "21    0.528933\n",
      "22    1.269573\n",
      "23    0.637931\n",
      "Name: km, dtype: float64\n"
     ]
    },
    {
     "data": {
      "text/plain": [
       "<Figure size 640x480 with 0 Axes>"
      ]
     },
     "metadata": {},
     "output_type": "display_data"
    },
    {
     "name": "stdout",
     "output_type": "stream",
     "text": [
      "0    -2.256839\n",
      "1    -0.629191\n",
      "2    -0.803002\n",
      "3    -1.372029\n",
      "4    -1.217224\n",
      "5    -0.223091\n",
      "6    -1.067779\n",
      "7     0.196004\n",
      "8    -0.705538\n",
      "9     0.277224\n",
      "10    0.309241\n",
      "11    0.617373\n",
      "12    0.439664\n",
      "13    0.057930\n",
      "14    0.553372\n",
      "15    0.406770\n",
      "16    0.858191\n",
      "17    0.131028\n",
      "18    0.651664\n",
      "19    0.574912\n",
      "20    0.764544\n",
      "21    0.529006\n",
      "22    1.269749\n",
      "23    0.638020\n",
      "Name: km, dtype: float64\n"
     ]
    },
    {
     "data": {
      "text/plain": [
       "<Figure size 640x480 with 0 Axes>"
      ]
     },
     "metadata": {},
     "output_type": "display_data"
    },
    {
     "name": "stdout",
     "output_type": "stream",
     "text": [
      "0    -2.257092\n",
      "1    -0.629261\n",
      "2    -0.803091\n",
      "3    -1.372182\n",
      "4    -1.217360\n",
      "5    -0.223116\n",
      "6    -1.067898\n",
      "7     0.196026\n",
      "8    -0.705617\n",
      "9     0.277255\n",
      "10    0.309276\n",
      "11    0.617442\n",
      "12    0.439713\n",
      "13    0.057937\n",
      "14    0.553434\n",
      "15    0.406815\n",
      "16    0.858287\n",
      "17    0.131043\n",
      "18    0.651737\n",
      "19    0.574976\n",
      "20    0.764630\n",
      "21    0.529065\n",
      "22    1.269891\n",
      "23    0.638091\n",
      "Name: km, dtype: float64\n"
     ]
    },
    {
     "data": {
      "text/plain": [
       "<Figure size 640x480 with 0 Axes>"
      ]
     },
     "metadata": {},
     "output_type": "display_data"
    },
    {
     "name": "stdout",
     "output_type": "stream",
     "text": [
      "0    -2.257296\n",
      "1    -0.629318\n",
      "2    -0.803164\n",
      "3    -1.372306\n",
      "4    -1.217470\n",
      "5    -0.223136\n",
      "6    -1.067995\n",
      "7     0.196044\n",
      "8    -0.705680\n",
      "9     0.277280\n",
      "10    0.309304\n",
      "11    0.617498\n",
      "12    0.439753\n",
      "13    0.057942\n",
      "14    0.553484\n",
      "15    0.406852\n",
      "16    0.858364\n",
      "17    0.131055\n",
      "18    0.651796\n",
      "19    0.575028\n",
      "20    0.764699\n",
      "21    0.529113\n",
      "22    1.270005\n",
      "23    0.638149\n",
      "Name: km, dtype: float64\n"
     ]
    },
    {
     "data": {
      "text/plain": [
       "<Figure size 640x480 with 0 Axes>"
      ]
     },
     "metadata": {},
     "output_type": "display_data"
    },
    {
     "name": "stdout",
     "output_type": "stream",
     "text": [
      "0    -2.257461\n",
      "1    -0.629364\n",
      "2    -0.803223\n",
      "3    -1.372407\n",
      "4    -1.217559\n",
      "5    -0.223152\n",
      "6    -1.068073\n",
      "7     0.196058\n",
      "8    -0.705732\n",
      "9     0.277300\n",
      "10    0.309326\n",
      "11    0.617543\n",
      "12    0.439785\n",
      "13    0.057946\n",
      "14    0.553524\n",
      "15    0.406882\n",
      "16    0.858427\n",
      "17    0.131064\n",
      "18    0.651844\n",
      "19    0.575070\n",
      "20    0.764754\n",
      "21    0.529152\n",
      "22    1.270098\n",
      "23    0.638195\n",
      "Name: km, dtype: float64\n"
     ]
    },
    {
     "data": {
      "text/plain": [
       "<Figure size 640x480 with 0 Axes>"
      ]
     },
     "metadata": {},
     "output_type": "display_data"
    },
    {
     "name": "stdout",
     "output_type": "stream",
     "text": [
      "0    -2.257594\n",
      "1    -0.629401\n",
      "2    -0.803270\n",
      "3    -1.372488\n",
      "4    -1.217631\n",
      "5    -0.223166\n",
      "6    -1.068136\n",
      "7     0.196070\n",
      "8    -0.705774\n",
      "9     0.277317\n",
      "10    0.309344\n",
      "11    0.617580\n",
      "12    0.439811\n",
      "13    0.057950\n",
      "14    0.553557\n",
      "15    0.406906\n",
      "16    0.858478\n",
      "17    0.131072\n",
      "18    0.651882\n",
      "19    0.575104\n",
      "20    0.764800\n",
      "21    0.529183\n",
      "22    1.270173\n",
      "23    0.638233\n",
      "Name: km, dtype: float64\n"
     ]
    },
    {
     "data": {
      "text/plain": [
       "<Figure size 640x480 with 0 Axes>"
      ]
     },
     "metadata": {},
     "output_type": "display_data"
    },
    {
     "name": "stdout",
     "output_type": "stream",
     "text": [
      "0    -2.257702\n",
      "1    -0.629431\n",
      "2    -0.803308\n",
      "3    -1.372553\n",
      "4    -1.217689\n",
      "5    -0.223176\n",
      "6    -1.068187\n",
      "7     0.196079\n",
      "8    -0.705807\n",
      "9     0.277330\n",
      "10    0.309359\n",
      "11    0.617609\n",
      "12    0.439832\n",
      "13    0.057952\n",
      "14    0.553583\n",
      "15    0.406925\n",
      "16    0.858519\n",
      "17    0.131078\n",
      "18    0.651913\n",
      "19    0.575131\n",
      "20    0.764836\n",
      "21    0.529208\n",
      "22    1.270234\n",
      "23    0.638263\n",
      "Name: km, dtype: float64\n"
     ]
    },
    {
     "data": {
      "text/plain": [
       "<Figure size 640x480 with 0 Axes>"
      ]
     },
     "metadata": {},
     "output_type": "display_data"
    },
    {
     "name": "stdout",
     "output_type": "stream",
     "text": [
      "0    -2.257789\n",
      "1    -0.629456\n",
      "2    -0.803339\n",
      "3    -1.372606\n",
      "4    -1.217736\n",
      "5    -0.223185\n",
      "6    -1.068228\n",
      "7     0.196087\n",
      "8    -0.705834\n",
      "9     0.277341\n",
      "10    0.309371\n",
      "11    0.617633\n",
      "12    0.439849\n",
      "13    0.057955\n",
      "14    0.553605\n",
      "15    0.406941\n",
      "16    0.858552\n",
      "17    0.131083\n",
      "18    0.651939\n",
      "19    0.575153\n",
      "20    0.764866\n",
      "21    0.529229\n",
      "22    1.270283\n",
      "23    0.638288\n",
      "Name: km, dtype: float64\n"
     ]
    },
    {
     "data": {
      "text/plain": [
       "<Figure size 640x480 with 0 Axes>"
      ]
     },
     "metadata": {},
     "output_type": "display_data"
    },
    {
     "name": "stdout",
     "output_type": "stream",
     "text": [
      "0    -2.257859\n",
      "1    -0.629475\n",
      "2    -0.803364\n",
      "3    -1.372649\n",
      "4    -1.217774\n",
      "5    -0.223192\n",
      "6    -1.068261\n",
      "7     0.196093\n",
      "8    -0.705856\n",
      "9     0.277349\n",
      "10    0.309381\n",
      "11    0.617652\n",
      "12    0.439863\n",
      "13    0.057956\n",
      "14    0.553622\n",
      "15    0.406954\n",
      "16    0.858578\n",
      "17    0.131087\n",
      "18    0.651959\n",
      "19    0.575171\n",
      "20    0.764889\n",
      "21    0.529245\n",
      "22    1.270322\n",
      "23    0.638308\n",
      "Name: km, dtype: float64\n"
     ]
    },
    {
     "data": {
      "text/plain": [
       "<Figure size 640x480 with 0 Axes>"
      ]
     },
     "metadata": {},
     "output_type": "display_data"
    },
    {
     "name": "stdout",
     "output_type": "stream",
     "text": [
      "0    -2.257916\n",
      "1    -0.629491\n",
      "2    -0.803385\n",
      "3    -1.372683\n",
      "4    -1.217804\n",
      "5    -0.223197\n",
      "6    -1.068288\n",
      "7     0.196098\n",
      "8    -0.705874\n",
      "9     0.277356\n",
      "10    0.309389\n",
      "11    0.617668\n",
      "12    0.439874\n",
      "13    0.057958\n",
      "14    0.553636\n",
      "15    0.406964\n",
      "16    0.858600\n",
      "17    0.131091\n",
      "18    0.651975\n",
      "19    0.575186\n",
      "20    0.764909\n",
      "21    0.529258\n",
      "22    1.270354\n",
      "23    0.638324\n",
      "Name: km, dtype: float64\n"
     ]
    },
    {
     "data": {
      "text/plain": [
       "<Figure size 640x480 with 0 Axes>"
      ]
     },
     "metadata": {},
     "output_type": "display_data"
    },
    {
     "name": "stdout",
     "output_type": "stream",
     "text": [
      "0    -2.257962\n",
      "1    -0.629504\n",
      "2    -0.803401\n",
      "3    -1.372711\n",
      "4    -1.217829\n",
      "5    -0.223202\n",
      "6    -1.068310\n",
      "7     0.196102\n",
      "8    -0.705889\n",
      "9     0.277362\n",
      "10    0.309395\n",
      "11    0.617680\n",
      "12    0.439883\n",
      "13    0.057959\n",
      "14    0.553647\n",
      "15    0.406972\n",
      "16    0.858618\n",
      "17    0.131093\n",
      "18    0.651989\n",
      "19    0.575198\n",
      "20    0.764924\n",
      "21    0.529269\n",
      "22    1.270380\n",
      "23    0.638337\n",
      "Name: km, dtype: float64\n"
     ]
    },
    {
     "data": {
      "text/plain": [
       "<Figure size 640x480 with 0 Axes>"
      ]
     },
     "metadata": {},
     "output_type": "display_data"
    },
    {
     "name": "stdout",
     "output_type": "stream",
     "text": [
      "0    -2.257999\n",
      "1    -0.629514\n",
      "2    -0.803414\n",
      "3    -1.372734\n",
      "4    -1.217849\n",
      "5    -0.223206\n",
      "6    -1.068328\n",
      "7     0.196105\n",
      "8    -0.705900\n",
      "9     0.277367\n",
      "10    0.309400\n",
      "11    0.617691\n",
      "12    0.439890\n",
      "13    0.057960\n",
      "14    0.553656\n",
      "15    0.406979\n",
      "16    0.858632\n",
      "17    0.131095\n",
      "18    0.651999\n",
      "19    0.575207\n",
      "20    0.764937\n",
      "21    0.529278\n",
      "22    1.270401\n",
      "23    0.638347\n",
      "Name: km, dtype: float64\n"
     ]
    },
    {
     "data": {
      "text/plain": [
       "<Figure size 640x480 with 0 Axes>"
      ]
     },
     "metadata": {},
     "output_type": "display_data"
    },
    {
     "name": "stdout",
     "output_type": "stream",
     "text": [
      "0    -2.258029\n",
      "1    -0.629523\n",
      "2    -0.803425\n",
      "3    -1.372752\n",
      "4    -1.217865\n",
      "5    -0.223209\n",
      "6    -1.068342\n",
      "7     0.196107\n",
      "8    -0.705910\n",
      "9     0.277370\n",
      "10    0.309404\n",
      "11    0.617699\n",
      "12    0.439896\n",
      "13    0.057961\n",
      "14    0.553664\n",
      "15    0.406984\n",
      "16    0.858643\n",
      "17    0.131097\n",
      "18    0.652008\n",
      "19    0.575215\n",
      "20    0.764947\n",
      "21    0.529285\n",
      "22    1.270418\n",
      "23    0.638356\n",
      "Name: km, dtype: float64\n"
     ]
    },
    {
     "data": {
      "text/plain": [
       "<Figure size 640x480 with 0 Axes>"
      ]
     },
     "metadata": {},
     "output_type": "display_data"
    },
    {
     "name": "stdout",
     "output_type": "stream",
     "text": [
      "0    -2.258053\n",
      "1    -0.629529\n",
      "2    -0.803434\n",
      "3    -1.372767\n",
      "4    -1.217878\n",
      "5    -0.223211\n",
      "6    -1.068353\n",
      "7     0.196110\n",
      "8    -0.705917\n",
      "9     0.277373\n",
      "10    0.309407\n",
      "11    0.617706\n",
      "12    0.439901\n",
      "13    0.057961\n",
      "14    0.553670\n",
      "15    0.406989\n",
      "16    0.858652\n",
      "17    0.131099\n",
      "18    0.652015\n",
      "19    0.575221\n",
      "20    0.764955\n",
      "21    0.529291\n",
      "22    1.270432\n",
      "23    0.638363\n",
      "Name: km, dtype: float64\n"
     ]
    },
    {
     "data": {
      "text/plain": [
       "<Figure size 640x480 with 0 Axes>"
      ]
     },
     "metadata": {},
     "output_type": "display_data"
    },
    {
     "name": "stdout",
     "output_type": "stream",
     "text": [
      "0    -2.258073\n",
      "1    -0.629535\n",
      "2    -0.803441\n",
      "3    -1.372779\n",
      "4    -1.217889\n",
      "5    -0.223213\n",
      "6    -1.068363\n",
      "7     0.196111\n",
      "8    -0.705923\n",
      "9     0.277376\n",
      "10    0.309410\n",
      "11    0.617711\n",
      "12    0.439904\n",
      "13    0.057962\n",
      "14    0.553675\n",
      "15    0.406992\n",
      "16    0.858660\n",
      "17    0.131100\n",
      "18    0.652021\n",
      "19    0.575226\n",
      "20    0.764962\n",
      "21    0.529295\n",
      "22    1.270443\n",
      "23    0.638368\n",
      "Name: km, dtype: float64\n"
     ]
    },
    {
     "data": {
      "text/plain": [
       "<Figure size 640x480 with 0 Axes>"
      ]
     },
     "metadata": {},
     "output_type": "display_data"
    },
    {
     "name": "stdout",
     "output_type": "stream",
     "text": [
      "0    -2.258089\n",
      "1    -0.629539\n",
      "2    -0.803446\n",
      "3    -1.372789\n",
      "4    -1.217898\n",
      "5    -0.223215\n",
      "6    -1.068370\n",
      "7     0.196113\n",
      "8    -0.705928\n",
      "9     0.277378\n",
      "10    0.309412\n",
      "11    0.617715\n",
      "12    0.439908\n",
      "13    0.057962\n",
      "14    0.553678\n",
      "15    0.406995\n",
      "16    0.858666\n",
      "17    0.131101\n",
      "18    0.652025\n",
      "19    0.575230\n",
      "20    0.764967\n",
      "21    0.529299\n",
      "22    1.270452\n",
      "23    0.638373\n",
      "Name: km, dtype: float64\n"
     ]
    },
    {
     "data": {
      "text/plain": [
       "<Figure size 640x480 with 0 Axes>"
      ]
     },
     "metadata": {},
     "output_type": "display_data"
    },
    {
     "name": "stdout",
     "output_type": "stream",
     "text": [
      "0    -2.258102\n",
      "1    -0.629543\n",
      "2    -0.803451\n",
      "3    -1.372796\n",
      "4    -1.217904\n",
      "5    -0.223216\n",
      "6    -1.068376\n",
      "7     0.196114\n",
      "8    -0.705932\n",
      "9     0.277379\n",
      "10    0.309414\n",
      "11    0.617719\n",
      "12    0.439910\n",
      "13    0.057963\n",
      "14    0.553682\n",
      "15    0.406998\n",
      "16    0.858671\n",
      "17    0.131101\n",
      "18    0.652029\n",
      "19    0.575233\n",
      "20    0.764972\n",
      "21    0.529302\n",
      "22    1.270459\n",
      "23    0.638376\n",
      "Name: km, dtype: float64\n"
     ]
    },
    {
     "data": {
      "text/plain": [
       "<Figure size 640x480 with 0 Axes>"
      ]
     },
     "metadata": {},
     "output_type": "display_data"
    },
    {
     "name": "stdout",
     "output_type": "stream",
     "text": [
      "0    -2.258112\n",
      "1    -0.629546\n",
      "2    -0.803455\n",
      "3    -1.372803\n",
      "4    -1.217910\n",
      "5    -0.223217\n",
      "6    -1.068381\n",
      "7     0.196115\n",
      "8    -0.705936\n",
      "9     0.277380\n",
      "10    0.309415\n",
      "11    0.617722\n",
      "12    0.439912\n",
      "13    0.057963\n",
      "14    0.553684\n",
      "15    0.406999\n",
      "16    0.858675\n",
      "17    0.131102\n",
      "18    0.652032\n",
      "19    0.575236\n",
      "20    0.764975\n",
      "21    0.529304\n",
      "22    1.270465\n",
      "23    0.638379\n",
      "Name: km, dtype: float64\n"
     ]
    },
    {
     "data": {
      "text/plain": [
       "<Figure size 640x480 with 0 Axes>"
      ]
     },
     "metadata": {},
     "output_type": "display_data"
    },
    {
     "name": "stdout",
     "output_type": "stream",
     "text": [
      "0    -2.258121\n",
      "1    -0.629548\n",
      "2    -0.803458\n",
      "3    -1.372808\n",
      "4    -1.217915\n",
      "5    -0.223218\n",
      "6    -1.068385\n",
      "7     0.196115\n",
      "8    -0.705938\n",
      "9     0.277381\n",
      "10    0.309417\n",
      "11    0.617724\n",
      "12    0.439914\n",
      "13    0.057963\n",
      "14    0.553686\n",
      "15    0.407001\n",
      "16    0.858678\n",
      "17    0.131103\n",
      "18    0.652034\n",
      "19    0.575238\n",
      "20    0.764978\n",
      "21    0.529306\n",
      "22    1.270469\n",
      "23    0.638382\n",
      "Name: km, dtype: float64\n"
     ]
    },
    {
     "data": {
      "text/plain": [
       "<Figure size 640x480 with 0 Axes>"
      ]
     },
     "metadata": {},
     "output_type": "display_data"
    },
    {
     "name": "stdout",
     "output_type": "stream",
     "text": [
      "0    -2.258127\n",
      "1    -0.629550\n",
      "2    -0.803460\n",
      "3    -1.372812\n",
      "4    -1.217918\n",
      "5    -0.223218\n",
      "6    -1.068388\n",
      "7     0.196116\n",
      "8    -0.705940\n",
      "9     0.277382\n",
      "10    0.309418\n",
      "11    0.617726\n",
      "12    0.439915\n",
      "13    0.057963\n",
      "14    0.553688\n",
      "15    0.407002\n",
      "16    0.858680\n",
      "17    0.131103\n",
      "18    0.652036\n",
      "19    0.575240\n",
      "20    0.764980\n",
      "21    0.529308\n",
      "22    1.270473\n",
      "23    0.638384\n",
      "Name: km, dtype: float64\n"
     ]
    },
    {
     "data": {
      "text/plain": [
       "<Figure size 640x480 with 0 Axes>"
      ]
     },
     "metadata": {},
     "output_type": "display_data"
    },
    {
     "name": "stdout",
     "output_type": "stream",
     "text": [
      "0    -2.258133\n",
      "1    -0.629552\n",
      "2    -0.803462\n",
      "3    -1.372815\n",
      "4    -1.217921\n",
      "5    -0.223219\n",
      "6    -1.068391\n",
      "7     0.196116\n",
      "8    -0.705942\n",
      "9     0.277383\n",
      "10    0.309418\n",
      "11    0.617727\n",
      "12    0.439916\n",
      "13    0.057963\n",
      "14    0.553689\n",
      "15    0.407003\n",
      "16    0.858683\n",
      "17    0.131103\n",
      "18    0.652038\n",
      "19    0.575241\n",
      "20    0.764982\n",
      "21    0.529309\n",
      "22    1.270476\n",
      "23    0.638385\n",
      "Name: km, dtype: float64\n"
     ]
    },
    {
     "data": {
      "text/plain": [
       "<Figure size 640x480 with 0 Axes>"
      ]
     },
     "metadata": {},
     "output_type": "display_data"
    },
    {
     "name": "stdout",
     "output_type": "stream",
     "text": [
      "0    -2.258137\n",
      "1    -0.629553\n",
      "2    -0.803463\n",
      "3    -1.372818\n",
      "4    -1.217924\n",
      "5    -0.223219\n",
      "6    -1.068393\n",
      "7     0.196117\n",
      "8    -0.705943\n",
      "9     0.277384\n",
      "10    0.309419\n",
      "11    0.617728\n",
      "12    0.439917\n",
      "13    0.057963\n",
      "14    0.553690\n",
      "15    0.407004\n",
      "16    0.858684\n",
      "17    0.131103\n",
      "18    0.652039\n",
      "19    0.575242\n",
      "20    0.764984\n",
      "21    0.529310\n",
      "22    1.270479\n",
      "23    0.638386\n",
      "Name: km, dtype: float64\n"
     ]
    },
    {
     "data": {
      "text/plain": [
       "<Figure size 640x480 with 0 Axes>"
      ]
     },
     "metadata": {},
     "output_type": "display_data"
    },
    {
     "name": "stdout",
     "output_type": "stream",
     "text": [
      "0    -2.258141\n",
      "1    -0.629554\n",
      "2    -0.803465\n",
      "3    -1.372820\n",
      "4    -1.217926\n",
      "5    -0.223220\n",
      "6    -1.068395\n",
      "7     0.196117\n",
      "8    -0.705945\n",
      "9     0.277384\n",
      "10    0.309419\n",
      "11    0.617729\n",
      "12    0.439918\n",
      "13    0.057964\n",
      "14    0.553691\n",
      "15    0.407005\n",
      "16    0.858686\n",
      "17    0.131104\n",
      "18    0.652040\n",
      "19    0.575243\n",
      "20    0.764985\n",
      "21    0.529311\n",
      "22    1.270481\n",
      "23    0.638387\n",
      "Name: km, dtype: float64\n"
     ]
    },
    {
     "data": {
      "text/plain": [
       "<Figure size 640x480 with 0 Axes>"
      ]
     },
     "metadata": {},
     "output_type": "display_data"
    },
    {
     "name": "stdout",
     "output_type": "stream",
     "text": [
      "0    -2.258144\n",
      "1    -0.629555\n",
      "2    -0.803466\n",
      "3    -1.372822\n",
      "4    -1.217927\n",
      "5    -0.223220\n",
      "6    -1.068396\n",
      "7     0.196117\n",
      "8    -0.705945\n",
      "9     0.277384\n",
      "10    0.309420\n",
      "11    0.617730\n",
      "12    0.439918\n",
      "13    0.057964\n",
      "14    0.553692\n",
      "15    0.407005\n",
      "16    0.858687\n",
      "17    0.131104\n",
      "18    0.652041\n",
      "19    0.575244\n",
      "20    0.764986\n",
      "21    0.529312\n",
      "22    1.270482\n",
      "23    0.638388\n",
      "Name: km, dtype: float64\n"
     ]
    },
    {
     "data": {
      "text/plain": [
       "<Figure size 640x480 with 0 Axes>"
      ]
     },
     "metadata": {},
     "output_type": "display_data"
    },
    {
     "name": "stdout",
     "output_type": "stream",
     "text": [
      "0    -2.258146\n",
      "1    -0.629555\n",
      "2    -0.803467\n",
      "3    -1.372823\n",
      "4    -1.217928\n",
      "5    -0.223220\n",
      "6    -1.068397\n",
      "7     0.196118\n",
      "8    -0.705946\n",
      "9     0.277385\n",
      "10    0.309420\n",
      "11    0.617731\n",
      "12    0.439919\n",
      "13    0.057964\n",
      "14    0.553692\n",
      "15    0.407005\n",
      "16    0.858688\n",
      "17    0.131104\n",
      "18    0.652042\n",
      "19    0.575244\n",
      "20    0.764987\n",
      "21    0.529312\n",
      "22    1.270484\n",
      "23    0.638389\n",
      "Name: km, dtype: float64\n"
     ]
    },
    {
     "data": {
      "text/plain": [
       "<Figure size 640x480 with 0 Axes>"
      ]
     },
     "metadata": {},
     "output_type": "display_data"
    },
    {
     "name": "stdout",
     "output_type": "stream",
     "text": [
      "0    -2.258148\n",
      "1    -0.629556\n",
      "2    -0.803467\n",
      "3    -1.372824\n",
      "4    -1.217929\n",
      "5    -0.223220\n",
      "6    -1.068398\n",
      "7     0.196118\n",
      "8    -0.705947\n",
      "9     0.277385\n",
      "10    0.309420\n",
      "11    0.617731\n",
      "12    0.439919\n",
      "13    0.057964\n",
      "14    0.553693\n",
      "15    0.407006\n",
      "16    0.858688\n",
      "17    0.131104\n",
      "18    0.652042\n",
      "19    0.575245\n",
      "20    0.764987\n",
      "21    0.529313\n",
      "22    1.270485\n",
      "23    0.638389\n",
      "Name: km, dtype: float64\n"
     ]
    },
    {
     "data": {
      "text/plain": [
       "<Figure size 640x480 with 0 Axes>"
      ]
     },
     "metadata": {},
     "output_type": "display_data"
    },
    {
     "name": "stdout",
     "output_type": "stream",
     "text": [
      "0    -2.258149\n",
      "1    -0.629556\n",
      "2    -0.803468\n",
      "3    -1.372825\n",
      "4    -1.217930\n",
      "5    -0.223220\n",
      "6    -1.068399\n",
      "7     0.196118\n",
      "8    -0.705947\n",
      "9     0.277385\n",
      "10    0.309421\n",
      "11    0.617732\n",
      "12    0.439919\n",
      "13    0.057964\n",
      "14    0.553693\n",
      "15    0.407006\n",
      "16    0.858689\n",
      "17    0.131104\n",
      "18    0.652043\n",
      "19    0.575245\n",
      "20    0.764988\n",
      "21    0.529313\n",
      "22    1.270486\n",
      "23    0.638390\n",
      "Name: km, dtype: float64\n"
     ]
    },
    {
     "data": {
      "text/plain": [
       "<Figure size 640x480 with 0 Axes>"
      ]
     },
     "metadata": {},
     "output_type": "display_data"
    },
    {
     "name": "stdout",
     "output_type": "stream",
     "text": [
      "0    -2.258151\n",
      "1    -0.629557\n",
      "2    -0.803468\n",
      "3    -1.372826\n",
      "4    -1.217931\n",
      "5    -0.223221\n",
      "6    -1.068399\n",
      "7     0.196118\n",
      "8    -0.705948\n",
      "9     0.277385\n",
      "10    0.309421\n",
      "11    0.617732\n",
      "12    0.439920\n",
      "13    0.057964\n",
      "14    0.553694\n",
      "15    0.407006\n",
      "16    0.858689\n",
      "17    0.131104\n",
      "18    0.652043\n",
      "19    0.575246\n",
      "20    0.764988\n",
      "21    0.529313\n",
      "22    1.270486\n",
      "23    0.638390\n",
      "Name: km, dtype: float64\n"
     ]
    },
    {
     "data": {
      "text/plain": [
       "<Figure size 640x480 with 0 Axes>"
      ]
     },
     "metadata": {},
     "output_type": "display_data"
    },
    {
     "name": "stdout",
     "output_type": "stream",
     "text": [
      "0    -2.258152\n",
      "1    -0.629557\n",
      "2    -0.803469\n",
      "3    -1.372827\n",
      "4    -1.217931\n",
      "5    -0.223221\n",
      "6    -1.068400\n",
      "7     0.196118\n",
      "8    -0.705948\n",
      "9     0.277385\n",
      "10    0.309421\n",
      "11    0.617732\n",
      "12    0.439920\n",
      "13    0.057964\n",
      "14    0.553694\n",
      "15    0.407007\n",
      "16    0.858690\n",
      "17    0.131104\n",
      "18    0.652043\n",
      "19    0.575246\n",
      "20    0.764989\n",
      "21    0.529314\n",
      "22    1.270487\n",
      "23    0.638391\n",
      "Name: km, dtype: float64\n"
     ]
    },
    {
     "data": {
      "text/plain": [
       "<Figure size 640x480 with 0 Axes>"
      ]
     },
     "metadata": {},
     "output_type": "display_data"
    },
    {
     "name": "stdout",
     "output_type": "stream",
     "text": [
      "0    -2.258153\n",
      "1    -0.629557\n",
      "2    -0.803469\n",
      "3    -1.372827\n",
      "4    -1.217932\n",
      "5    -0.223221\n",
      "6    -1.068400\n",
      "7     0.196118\n",
      "8    -0.705948\n",
      "9     0.277385\n",
      "10    0.309421\n",
      "11    0.617733\n",
      "12    0.439920\n",
      "13    0.057964\n",
      "14    0.553694\n",
      "15    0.407007\n",
      "16    0.858690\n",
      "17    0.131104\n",
      "18    0.652044\n",
      "19    0.575246\n",
      "20    0.764989\n",
      "21    0.529314\n",
      "22    1.270487\n",
      "23    0.638391\n",
      "Name: km, dtype: float64\n"
     ]
    },
    {
     "data": {
      "text/plain": [
       "<Figure size 640x480 with 0 Axes>"
      ]
     },
     "metadata": {},
     "output_type": "display_data"
    },
    {
     "name": "stdout",
     "output_type": "stream",
     "text": [
      "0    -2.258153\n",
      "1    -0.629557\n",
      "2    -0.803469\n",
      "3    -1.372828\n",
      "4    -1.217932\n",
      "5    -0.223221\n",
      "6    -1.068400\n",
      "7     0.196118\n",
      "8    -0.705948\n",
      "9     0.277385\n",
      "10    0.309421\n",
      "11    0.617733\n",
      "12    0.439920\n",
      "13    0.057964\n",
      "14    0.553694\n",
      "15    0.407007\n",
      "16    0.858690\n",
      "17    0.131104\n",
      "18    0.652044\n",
      "19    0.575246\n",
      "20    0.764989\n",
      "21    0.529314\n",
      "22    1.270488\n",
      "23    0.638391\n",
      "Name: km, dtype: float64\n"
     ]
    },
    {
     "data": {
      "text/plain": [
       "<Figure size 640x480 with 0 Axes>"
      ]
     },
     "metadata": {},
     "output_type": "display_data"
    },
    {
     "name": "stdout",
     "output_type": "stream",
     "text": [
      "0    -2.258154\n",
      "1    -0.629557\n",
      "2    -0.803469\n",
      "3    -1.372828\n",
      "4    -1.217932\n",
      "5    -0.223221\n",
      "6    -1.068401\n",
      "7     0.196118\n",
      "8    -0.705949\n",
      "9     0.277386\n",
      "10    0.309421\n",
      "11    0.617733\n",
      "12    0.439920\n",
      "13    0.057964\n",
      "14    0.553694\n",
      "15    0.407007\n",
      "16    0.858690\n",
      "17    0.131104\n",
      "18    0.652044\n",
      "19    0.575246\n",
      "20    0.764989\n",
      "21    0.529314\n",
      "22    1.270488\n",
      "23    0.638391\n",
      "Name: km, dtype: float64\n"
     ]
    },
    {
     "data": {
      "text/plain": [
       "<Figure size 640x480 with 0 Axes>"
      ]
     },
     "metadata": {},
     "output_type": "display_data"
    },
    {
     "name": "stdout",
     "output_type": "stream",
     "text": [
      "0    -2.258154\n",
      "1    -0.629557\n",
      "2    -0.803469\n",
      "3    -1.372828\n",
      "4    -1.217933\n",
      "5    -0.223221\n",
      "6    -1.068401\n",
      "7     0.196118\n",
      "8    -0.705949\n",
      "9     0.277386\n",
      "10    0.309421\n",
      "11    0.617733\n",
      "12    0.439920\n",
      "13    0.057964\n",
      "14    0.553694\n",
      "15    0.407007\n",
      "16    0.858691\n",
      "17    0.131104\n",
      "18    0.652044\n",
      "19    0.575247\n",
      "20    0.764989\n",
      "21    0.529314\n",
      "22    1.270488\n",
      "23    0.638391\n",
      "Name: km, dtype: float64\n"
     ]
    },
    {
     "data": {
      "text/plain": [
       "<Figure size 640x480 with 0 Axes>"
      ]
     },
     "metadata": {},
     "output_type": "display_data"
    },
    {
     "name": "stdout",
     "output_type": "stream",
     "text": [
      "0    -2.258154\n",
      "1    -0.629558\n",
      "2    -0.803470\n",
      "3    -1.372828\n",
      "4    -1.217933\n",
      "5    -0.223221\n",
      "6    -1.068401\n",
      "7     0.196118\n",
      "8    -0.705949\n",
      "9     0.277386\n",
      "10    0.309421\n",
      "11    0.617733\n",
      "12    0.439920\n",
      "13    0.057964\n",
      "14    0.553695\n",
      "15    0.407007\n",
      "16    0.858691\n",
      "17    0.131104\n",
      "18    0.652044\n",
      "19    0.575247\n",
      "20    0.764990\n",
      "21    0.529314\n",
      "22    1.270488\n",
      "23    0.638391\n",
      "Name: km, dtype: float64\n"
     ]
    },
    {
     "data": {
      "text/plain": [
       "<Figure size 640x480 with 0 Axes>"
      ]
     },
     "metadata": {},
     "output_type": "display_data"
    },
    {
     "name": "stdout",
     "output_type": "stream",
     "text": [
      "0    -2.258155\n",
      "1    -0.629558\n",
      "2    -0.803470\n",
      "3    -1.372829\n",
      "4    -1.217933\n",
      "5    -0.223221\n",
      "6    -1.068401\n",
      "7     0.196118\n",
      "8    -0.705949\n",
      "9     0.277386\n",
      "10    0.309421\n",
      "11    0.617733\n",
      "12    0.439920\n",
      "13    0.057964\n",
      "14    0.553695\n",
      "15    0.407007\n",
      "16    0.858691\n",
      "17    0.131105\n",
      "18    0.652044\n",
      "19    0.575247\n",
      "20    0.764990\n",
      "21    0.529314\n",
      "22    1.270489\n",
      "23    0.638391\n",
      "Name: km, dtype: float64\n"
     ]
    },
    {
     "data": {
      "text/plain": [
       "<Figure size 640x480 with 0 Axes>"
      ]
     },
     "metadata": {},
     "output_type": "display_data"
    },
    {
     "name": "stdout",
     "output_type": "stream",
     "text": [
      "0    -2.258155\n",
      "1    -0.629558\n",
      "2    -0.803470\n",
      "3    -1.372829\n",
      "4    -1.217933\n",
      "5    -0.223221\n",
      "6    -1.068401\n",
      "7     0.196118\n",
      "8    -0.705949\n",
      "9     0.277386\n",
      "10    0.309421\n",
      "11    0.617733\n",
      "12    0.439920\n",
      "13    0.057964\n",
      "14    0.553695\n",
      "15    0.407007\n",
      "16    0.858691\n",
      "17    0.131105\n",
      "18    0.652044\n",
      "19    0.575247\n",
      "20    0.764990\n",
      "21    0.529314\n",
      "22    1.270489\n",
      "23    0.638391\n",
      "Name: km, dtype: float64\n",
      "Converged after 70 loop!\n"
     ]
    }
   ],
   "source": [
    "df = pd.read_csv('./data.csv')\n",
    "t0 = 0\n",
    "t1 = 0\n",
    "learn_rate = 0.1\n",
    "prev_error = float('inf')\n",
    "\n",
    "x = standardize(df, 'km')\n",
    "y = standardize(df, 'price')\n",
    "fig, ax = plt.subplots()\n",
    "ax.scatter(x, y, label='Data Points')\n",
    "line, = ax.plot(x, t0 + t1 * x, color='red', label='Prediction Line')\n",
    "plt.ion()\n",
    "ax.set_xlabel('Standardized km')\n",
    "ax.set_ylabel('Standardized price')\n",
    "ax.legend()\n",
    "\n",
    "for loop in range(10000):\n",
    "    y_pred = t0 + t1 * x\n",
    "    y_err = y_pred - y\n",
    "    total_error = (y_err ** 2).mean()\n",
    "    sum_error_t0 = y_err.sum()\n",
    "    sum_error_t1 = (y_err * x).sum()\n",
    "\n",
    "    t0, t1 = update_thetas(x, y, y_pred, t0, t1, learn_rate)\n",
    "    line.set_ydata(t0 + t1 * x)\n",
    "    plt.draw()\n",
    "    plt.pause(0.01)\n",
    "    print(y_pred)\n",
    "    if abs(prev_error - total_error) < 0.0000000000001:\n",
    "        print(f\"Converged after {loop + 1} loop!\")\n",
    "        break\n",
    "    prev_error = total_error\n",
    "with open('Thetas.txt', 'w') as f:\n",
    "    f.write(str(t0) + '\\n' + str(t1))\n"
   ]
  }
 ],
 "metadata": {
  "kernelspec": {
   "display_name": "venv",
   "language": "python",
   "name": "python3"
  },
  "language_info": {
   "codemirror_mode": {
    "name": "ipython",
    "version": 3
   },
   "file_extension": ".py",
   "mimetype": "text/x-python",
   "name": "python",
   "nbconvert_exporter": "python",
   "pygments_lexer": "ipython3",
   "version": "3.13.0"
  }
 },
 "nbformat": 4,
 "nbformat_minor": 2
}
